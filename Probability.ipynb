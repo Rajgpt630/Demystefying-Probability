{
 "cells": [
  {
   "cell_type": "markdown",
   "metadata": {},
   "source": [
    "# Demystifying Probability using Python and Dices"
   ]
  },
  {
   "cell_type": "markdown",
   "metadata": {},
   "source": [
    "<center><u><b>Table of Contents</b></u></center>\n",
    "\n",
    "1. [What is Probability?](#What-is-Probability?)\n",
    "- [Random Experiments and Events](#Random-Experiment???-Event???)\n",
    "- [Sample Space](#Sample-Space-$\\Omega$)\n",
    "- [Random Variable](#Random-Variable-$say\\;x$)\n",
    "    - [Types of Random Variables](#Types-of-Random-Variables)\n",
    "\n",
    "[__Hands on__](#hands-on)\n",
    "1. [Probability](#Probability-$\\;P(x)$)\n",
    "- [Joint Probability](#Joint-Probability-$\\;P(x,y)$)\n",
    "- [Conditional Probability](#Conditional-Probability-$\\;P(y|x)$)"
   ]
  },
  {
   "cell_type": "markdown",
   "metadata": {},
   "source": [
    "## What is Probability?"
   ]
  },
  {
   "cell_type": "markdown",
   "metadata": {},
   "source": [
    "> `Probability` $P(x)$ is the measure of the likelihood that an event will occur in a Random Experiment."
   ]
  },
  {
   "cell_type": "markdown",
   "metadata": {},
   "source": [
    "\n",
    "- It is the ratio between the number of possible events and total number of events.\n",
    "\n",
    "- Probability of any event from a set of all possible events always lies between **`0 and 1`**\n"
   ]
  },
  {
   "cell_type": "markdown",
   "metadata": {},
   "source": [
    "###  Random Experiment??? Event???\n",
    "\n",
    "- In our case throwing the dice is a `Random Experiment` and it's outcome is an `event`.\n",
    "\n",
    "<img src=\"./images/rolling_dice.gif\" alt=\"Rolling Dice\" width=\"300\"/>\n",
    "\n",
    "\n",
    "- Rolling dice again and again and again, say $n$ times is called **`Random Experiment`**\n",
    "- $n$ random experiments will generate $n$ outcomes. And each outcome is called **`Event`**"
   ]
  },
  {
   "cell_type": "markdown",
   "metadata": {},
   "source": [
    "### Sample Space $\\Omega$\n",
    "\n",
    "- A set of all possible events of a given Random Experiment is called **`Sample Space`** $\\Omega$\n",
    "    - In case of tossing a coin, $\\Omega = \\{head, tail\\}$\n",
    "    - In our case, $\\Omega = \\{1,2,3,4,5,6\\}$"
   ]
  },
  {
   "cell_type": "markdown",
   "metadata": {},
   "source": [
    "### Random Variable $say\\;x$\n",
    "\n",
    "- It's a variable which belongs to a set of numbers, which is nothing but the numerical mapping of `Sample Space`\n",
    "    - $x$, is defined as a function from the sample space to the real numbers. \n",
    "    $$x: \\Omega \\to R$$\n",
    "    \n",
    "    - In case of tossing a coin $$x = \\Biggl\\{^{1\\quad if\\;head}_{0\\quad if\\;tail}$$\n",
    "    \n",
    "    - In our case, $x = \\Omega = \\{1,2,3,4,5,6\\}$ **since the sample space is already consisting real numbers**\n",
    "    \n",
    "#### Types of `Random Variables`\n",
    "\n",
    "1. Discrete (distinct values)\n",
    "    - outcome of rolling a dice\n",
    "    - outcome of tossing a coin\n",
    "- Continuous (range)\n",
    "    - height of a person\n",
    "    - temperature of a city"
   ]
  },
  {
   "cell_type": "markdown",
   "metadata": {},
   "source": [
    "<center style=\"font-weight:900; font-size: 30px;\" id=\"hands-on\"><font>Enough Theory!!!</font><br/><br><font> Let's implement..</font></center>"
   ]
  },
  {
   "cell_type": "code",
   "execution_count": null,
   "metadata": {},
   "outputs": [],
   "source": [
    "# importing necessary libraries\n",
    "import random "
   ]
  },
  {
   "cell_type": "code",
   "execution_count": null,
   "metadata": {},
   "outputs": [],
   "source": [
    "# Sample Space\n",
    "omega = [1,2,3,4,5,6]\n",
    "\n",
    "print('Sample Space\\n\\nomega = ',omega)"
   ]
  },
  {
   "cell_type": "code",
   "execution_count": null,
   "metadata": {},
   "outputs": [],
   "source": [
    "# Random Variable\n",
    "x = omega[random.randint(0,5)]\n",
    "\n",
    "print('x = ',x)"
   ]
  },
  {
   "cell_type": "code",
   "execution_count": null,
   "metadata": {},
   "outputs": [],
   "source": [
    "# let's do random experiment for n times\n",
    "n = 10\n",
    "\n",
    "for i in range(n):\n",
    "    x = omega[random.randint(0,5)]\n",
    "    print('Experiment#',i,': x = ',x)"
   ]
  },
  {
   "cell_type": "code",
   "execution_count": null,
   "metadata": {},
   "outputs": [],
   "source": [
    "def calc_prob(n_possible_events, n_events):\n",
    "    '''\n",
    "    Calculates the probability of a given event\n",
    "    \n",
    "    Parameters\n",
    "    ----------\n",
    "        - n_possible_events - number of possible events\n",
    "        - n_events - total number of events\n",
    "    Returns\n",
    "    ----------\n",
    "        - P - probability as a float value\n",
    "    '''\n",
    "    \n",
    "    P = n_possible_events/n_events\n",
    "    \n",
    "    return P"
   ]
  },
  {
   "cell_type": "markdown",
   "metadata": {},
   "source": [
    "## Probability $\\;P(x)$"
   ]
  },
  {
   "cell_type": "code",
   "execution_count": null,
   "metadata": {},
   "outputs": [],
   "source": [
    "'Question 1: Find the probability that the outcome of rolling a dice is 5'\n",
    "\n",
    "possible_events = [5,]\n",
    "\n",
    "number_of_possible_events = len(possible_events)\n",
    "total_number_of_events = len(omega)\n",
    "\n",
    "P = calc_prob(number_of_possible_events, total_number_of_events)\n",
    "\n",
    "print('Probability of an outcome to be 5 is : ',P)"
   ]
  },
  {
   "cell_type": "code",
   "execution_count": null,
   "metadata": {},
   "outputs": [],
   "source": [
    "'Question 2: Find the probability that the outcome of rolling a dice is an even number'\n",
    "\n",
    "possible_events = [2,4,6]\n",
    "\n",
    "number_of_possible_events = len(possible_events)\n",
    "total_number_of_events = len(omega)\n",
    "\n",
    "P = calc_prob(number_of_possible_events, total_number_of_events)\n",
    "\n",
    "print('Probability of an outcome to be an even number is : ',P)"
   ]
  },
  {
   "cell_type": "markdown",
   "metadata": {},
   "source": [
    "## Joint Probability $\\;P(x,y)$"
   ]
  },
  {
   "cell_type": "markdown",
   "metadata": {},
   "source": [
    "> `Joint Probability` $P(x,y)$ is the measure of the likelihood that two events will occur simultaneously in a Random Experiment.\n",
    "\n",
    "$$P(x,y) = P(x)*P(y)$$"
   ]
  },
  {
   "cell_type": "markdown",
   "metadata": {},
   "source": [
    "### Let's roll two dice simultaneously..."
   ]
  },
  {
   "cell_type": "code",
   "execution_count": null,
   "metadata": {},
   "outputs": [],
   "source": [
    "# In this case our sample space will be -\n",
    "\n",
    "cube = [1,2,3,4,5,6]\n",
    "omega = [(i,j) for j in cube for i in cube]"
   ]
  },
  {
   "cell_type": "code",
   "execution_count": null,
   "metadata": {},
   "outputs": [],
   "source": [
    "omega"
   ]
  },
  {
   "cell_type": "code",
   "execution_count": null,
   "metadata": {},
   "outputs": [],
   "source": [
    "'Question: what is the probability that the outcome of both the cubes will be even number?'\n",
    "\n",
    "possible_events_x = [2,4,6]\n",
    "possible_events_y = [2,4,6]\n",
    "possible_events_xy = [events for events in omega if events[0] & 1 == 0 and events[1] & 1 == 0]\n",
    "\n",
    "Px = calc_prob(len(possible_events_x),6)\n",
    "Py = calc_prob(len(possible_events_y),6)\n",
    "Pxy = calc_prob(len(possible_events_xy),len(omega))\n",
    "\n",
    "print('P(x) = ',Px)\n",
    "print('P(y) = ',Py)\n",
    "print('P(x,y) = ',Pxy)\n",
    "print('P(x)*P(y) = ',Px*Py)\n",
    "print('\\nHence, proved that P(x,y) = P(x)*P(y)')"
   ]
  },
  {
   "cell_type": "code",
   "execution_count": null,
   "metadata": {},
   "outputs": [],
   "source": [
    "'Question: What is the probability that both cubes having same outcome?'\n",
    "\n",
    "possible_events_xy = [events for events in omega if events[0]==events[1]]\n",
    "print('possible events = ',possible_events_xy)\n",
    "\n",
    "Pxy = calc_prob(len(possible_events_xy),len(omega))\n",
    "print('\\nP(x,y) = ',Pxy)"
   ]
  },
  {
   "cell_type": "markdown",
   "metadata": {},
   "source": [
    "## Conditional Probability $\\;P(y|x)$"
   ]
  },
  {
   "cell_type": "markdown",
   "metadata": {},
   "source": [
    "> `Conditional Probability` of an event $y$ is the probability that the event will occur given the knowledge that an event $x$ has already occurred"
   ]
  },
  {
   "cell_type": "markdown",
   "metadata": {},
   "source": [
    "$$P(y|x) = \\frac{P(x,y)}{P(x)}$$"
   ]
  },
  {
   "cell_type": "code",
   "execution_count": null,
   "metadata": {},
   "outputs": [],
   "source": [
    "'Question: What is the probability that a sum of a pair of number cubes will be 11 if the first cube lands on 5?'\n",
    "\n",
    "event_x = [5]\n",
    "\n",
    "event_y = [event for event in range(1,6+1) if 5+event==11]\n",
    "\n",
    "Px = calc_prob(len(event_x),6)\n",
    "Py = calc_prob(len(event_y),6)\n",
    "Pxy = Px*Py\n",
    "\n",
    "Pylx = Pxy/Px\n",
    "\n",
    "print('P(y|x) = ',Pylx)"
   ]
  },
  {
   "cell_type": "code",
   "execution_count": null,
   "metadata": {},
   "outputs": [],
   "source": [
    "'Question: What is the probability that a sum of a pair of number cubes will be odd if the first cube lands on 2?'\n",
    "\n",
    "event_x = [2]\n",
    "\n",
    "event_y = [event for event in range(1,6+1) if (2+event)&1==1]\n",
    "\n",
    "Px = calc_prob(len(event_x),6)\n",
    "Py = calc_prob(len(event_y),6)\n",
    "Pxy = Px*Py\n",
    "\n",
    "Pylx = Pxy/Px\n",
    "\n",
    "print('P(y|x) = ',Pylx)"
   ]
  }
 ],
 "metadata": {
  "kernelspec": {
   "display_name": "Python 3",
   "language": "python",
   "name": "python3"
  },
  "language_info": {
   "codemirror_mode": {
    "name": "ipython",
    "version": 3
   },
   "file_extension": ".py",
   "mimetype": "text/x-python",
   "name": "python",
   "nbconvert_exporter": "python",
   "pygments_lexer": "ipython3",
   "version": "3.7.3"
  }
 },
 "nbformat": 4,
 "nbformat_minor": 2
}
